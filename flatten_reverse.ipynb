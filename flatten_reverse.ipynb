{
  "nbformat": 4,
  "nbformat_minor": 0,
  "metadata": {
    "colab": {
      "name": "flatten_reverse.ipynb",
      "provenance": [],
      "collapsed_sections": [],
      "authorship_tag": "ABX9TyN4d8w+hPK+k+h/xTvTlQ+Y",
      "include_colab_link": true
    },
    "kernelspec": {
      "name": "python3",
      "display_name": "Python 3"
    },
    "language_info": {
      "name": "python"
    }
  },
  "cells": [
    {
      "cell_type": "markdown",
      "metadata": {
        "id": "view-in-github",
        "colab_type": "text"
      },
      "source": [
        "<a href=\"https://colab.research.google.com/github/RumeysaHilal/Patika.dev/blob/main/flatten_reverse.ipynb\" target=\"_parent\"><img src=\"https://colab.research.google.com/assets/colab-badge.svg\" alt=\"Open In Colab\"/></a>"
      ]
    },
    {
      "cell_type": "markdown",
      "source": [
        "1- Bir listeyi düzleştiren (flatten) fonksiyon yazın. Elemanları birden çok katmanlı listelerden ([[3],2] gibi) oluşabileceği gibi, non-scalar verilerden de oluşabilir. "
      ],
      "metadata": {
        "id": "22sVeQrZDU_d"
      }
    },
    {
      "cell_type": "code",
      "execution_count": 39,
      "metadata": {
        "colab": {
          "base_uri": "https://localhost:8080/"
        },
        "id": "Iw4yw_ymIiMs",
        "outputId": "a206e52b-d175-444d-9730-e3983d90932e"
      },
      "outputs": [
        {
          "output_type": "stream",
          "name": "stdout",
          "text": [
            "[1, 'a', 'cat', 2, 3, 'dog', 4, 5]\n"
          ]
        }
      ],
      "source": [
        "girdi = [[1,'a',['cat'],2],[[[3]],'dog'],4,5]\n",
        "ekleme=[]\n",
        "\n",
        "def flatten_(girdi):\n",
        "  for i in girdi:\n",
        "    if isinstance(i,list):\n",
        "      flatten_(i)\n",
        "    else:\n",
        "      ekleme.append(i)\n",
        "\n",
        "flatten_(girdi)\n",
        "print(ekleme)"
      ]
    },
    {
      "cell_type": "markdown",
      "source": [
        "2-Verilen listenin içindeki elemanları tersine döndüren bir fonksiyon yazın. Eğer listenin içindeki elemanlar da liste içeriyorsa onların elemanlarını da tersine döndürün."
      ],
      "metadata": {
        "id": "CE3ehbNpHH2w"
      }
    },
    {
      "cell_type": "code",
      "source": [
        "dizi=[[1, 2], [3, 4], [5, 6, 7]]\n",
        "\n",
        "for i in dizi:\n",
        "  i=i.reverse()\n",
        "dizi.reverse()\n",
        "print(dizi)"
      ],
      "metadata": {
        "colab": {
          "base_uri": "https://localhost:8080/"
        },
        "id": "BLdWumLkHHFF",
        "outputId": "f34e748a-a1be-4e39-a3ca-d292168f79ef"
      },
      "execution_count": 4,
      "outputs": [
        {
          "output_type": "stream",
          "name": "stdout",
          "text": [
            "[[7, 6, 5], [4, 3], [2, 1]]\n"
          ]
        }
      ]
    }
  ]
}